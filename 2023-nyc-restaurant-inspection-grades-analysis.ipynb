{
 "cells": [
  {
   "cell_type": "markdown",
   "id": "78ec870e",
   "metadata": {},
   "source": [
    "# Analysis of restaurant inspections by the New York Department of Health and Mental Hygiene (DOHMH) and grades given by borough"
   ]
  },
  {
   "cell_type": "code",
   "execution_count": null,
   "id": "e6530711",
   "metadata": {},
   "outputs": [],
   "source": []
  }
 ],
 "metadata": {
  "kernelspec": {
   "display_name": "Python 3 (ipykernel)",
   "language": "python",
   "name": "python3"
  },
  "language_info": {
   "codemirror_mode": {
    "name": "ipython",
    "version": 3
   },
   "file_extension": ".py",
   "mimetype": "text/x-python",
   "name": "python",
   "nbconvert_exporter": "python",
   "pygments_lexer": "ipython3",
   "version": "3.9.13"
  }
 },
 "nbformat": 4,
 "nbformat_minor": 5
}
